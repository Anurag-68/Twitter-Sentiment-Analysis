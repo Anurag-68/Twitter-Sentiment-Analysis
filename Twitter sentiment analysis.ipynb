{
 "cells": [
  {
   "cell_type": "code",
   "execution_count": null,
   "id": "306d5444",
   "metadata": {},
   "outputs": [],
   "source": [
    "import pandas as pd\n",
    "import numpy as np"
   ]
  },
  {
   "cell_type": "code",
   "execution_count": null,
   "id": "54211cce",
   "metadata": {},
   "outputs": [],
   "source": [
    "train_data=pd.read_csv('0000000000002747_training_twitter_x_y_train.csv')\n",
    "train_data.head()"
   ]
  },
  {
   "cell_type": "code",
   "execution_count": null,
   "id": "52179277",
   "metadata": {},
   "outputs": [],
   "source": [
    "x_training = train_data[['text','airline_sentiment']]"
   ]
  },
  {
   "cell_type": "code",
   "execution_count": null,
   "id": "d20ee52d",
   "metadata": {},
   "outputs": [],
   "source": [
    "test_data=pd.read_csv('0000000000002747_test_twitter_x_test.csv')\n",
    "test_data.head()"
   ]
  },
  {
   "cell_type": "code",
   "execution_count": null,
   "id": "0068651a",
   "metadata": {},
   "outputs": [],
   "source": [
    "x_testing = test_data['text']\n",
    "x_test = x_testing.values"
   ]
  },
  {
   "cell_type": "code",
   "execution_count": null,
   "id": "287926a5",
   "metadata": {},
   "outputs": [],
   "source": [
    "from nltk.tokenize import word_tokenize\n",
    "from nltk.stem import WordNetLemmatizer\n",
    "from nltk.corpus import stopwords\n",
    "import string\n",
    "from nltk import pos_tag\n",
    "from sklearn.feature_extraction.text import CountVectorizer\n",
    "from sklearn.svm import SVC\n",
    "from sklearn.ensemble import RandomForestClassifier\n",
    "from sklearn.naive_bayes import MultinomialNB\n",
    "from sklearn import tree"
   ]
  },
  {
   "cell_type": "code",
   "execution_count": null,
   "id": "75673544",
   "metadata": {},
   "outputs": [],
   "source": [
    "type(x_training)"
   ]
  },
  {
   "cell_type": "code",
   "execution_count": null,
   "id": "78c51675",
   "metadata": {},
   "outputs": [],
   "source": [
    "x_train = x_training.values"
   ]
  },
  {
   "cell_type": "code",
   "execution_count": null,
   "id": "da6884a5",
   "metadata": {},
   "outputs": [],
   "source": [
    "train_words = []\n",
    "for i in range(len(x_train)):\n",
    "    train_words.append([word_tokenize(x_train[i][0]), x_train[i][1]])"
   ]
  },
  {
   "cell_type": "code",
   "execution_count": null,
   "id": "10a16d6a",
   "metadata": {},
   "outputs": [],
   "source": [
    "stops = set(stopwords.words('english'))\n",
    "punctuations = list(string.punctuation)\n",
    "stops.update(punctuations)\n",
    "stops"
   ]
  },
  {
   "cell_type": "code",
   "execution_count": null,
   "id": "cc3cccc5",
   "metadata": {},
   "outputs": [],
   "source": [
    "from nltk.corpus import wordnet\n",
    "def get_simple_pos_tag(tag):\n",
    "    if tag.startswith('J'):\n",
    "        return wordnet.ADJ\n",
    "    elif tag.startswith('V'):\n",
    "        return wordnet.VERB\n",
    "    elif tag.startswith('N'):\n",
    "        return wordnet.NOUN\n",
    "    elif tag.startswith('R'):\n",
    "        return wordnet.ADV\n",
    "    else:\n",
    "        return wordnet.NOUN"
   ]
  },
  {
   "cell_type": "code",
   "execution_count": null,
   "id": "2cbd3573",
   "metadata": {},
   "outputs": [],
   "source": [
    "lemmatizer = WordNetLemmatizer()\n",
    "def clean(words):\n",
    "    output_words = []\n",
    "    for w in words:\n",
    "        if w.isalpha():\n",
    "            if(w.lower() not in stops):\n",
    "                pos = pos_tag([w])\n",
    "                clean_words = lemmatizer.lemmatize(w, pos=get_simple_pos_tag(pos[0][1]))\n",
    "                output_words.append(clean_words.lower())\n",
    "    return output_words"
   ]
  },
  {
   "cell_type": "code",
   "execution_count": null,
   "id": "313d3c2e",
   "metadata": {},
   "outputs": [],
   "source": [
    "for i in range(len(train_words)):\n",
    "    train_words[i] = (clean(train_words[i][0]), train_words[i][1]) "
   ]
  },
  {
   "cell_type": "code",
   "execution_count": null,
   "id": "fa042569",
   "metadata": {},
   "outputs": [],
   "source": [
    "y_train = []\n",
    "tweet = []\n",
    "for tweets, res in train_words:\n",
    "    tweet.append(\" \".join(tweets))\n",
    "    y_train.append(res)"
   ]
  },
  {
   "cell_type": "code",
   "execution_count": null,
   "id": "daf22361",
   "metadata": {},
   "outputs": [],
   "source": [
    "tweets_test = []\n",
    "for i in x_test:\n",
    "    i = clean(word_tokenize(i))\n",
    "    tweets_test.append(\" \".join(i))"
   ]
  },
  {
   "cell_type": "code",
   "execution_count": null,
   "id": "f17ec3d4",
   "metadata": {},
   "outputs": [],
   "source": [
    "tweets_test"
   ]
  },
  {
   "cell_type": "markdown",
   "id": "104b4d15",
   "metadata": {},
   "source": [
    "Count_vectorizer"
   ]
  },
  {
   "cell_type": "code",
   "execution_count": null,
   "id": "9e865134",
   "metadata": {},
   "outputs": [],
   "source": [
    "count_vec = CountVectorizer(max_features=10000, ngram_range = (2,3)) \n",
    "x_train_features = count_vec.fit_transform(tweet)"
   ]
  },
  {
   "cell_type": "code",
   "execution_count": null,
   "id": "0b9b72e5",
   "metadata": {},
   "outputs": [],
   "source": [
    "x_test_features = count_vec.transform(tweets_test)"
   ]
  },
  {
   "cell_type": "markdown",
   "id": "e06acebc",
   "metadata": {},
   "source": [
    "Perform classifications"
   ]
  },
  {
   "cell_type": "code",
   "execution_count": null,
   "id": "88a3618c",
   "metadata": {},
   "outputs": [],
   "source": [
    "clf1 = SVC()\n",
    "clf1.fit(x_train_features, y_train)"
   ]
  },
  {
   "cell_type": "code",
   "execution_count": null,
   "id": "215e0e02",
   "metadata": {},
   "outputs": [],
   "source": [
    "y_predict_svm = clf1.predict(x_test_features)"
   ]
  },
  {
   "cell_type": "code",
   "execution_count": null,
   "id": "3b1d68d3",
   "metadata": {},
   "outputs": [],
   "source": [
    "df = pd.DataFrame(y_predict_svm)\n",
    "df.to_csv('svm_more_predictions.csv', index = False, header = False)"
   ]
  },
  {
   "cell_type": "code",
   "execution_count": null,
   "id": "7bdac379",
   "metadata": {},
   "outputs": [],
   "source": [
    "clf2 = RandomForestClassifier()\n",
    "clf2.fit(x_train_features, y_train)"
   ]
  },
  {
   "cell_type": "code",
   "execution_count": null,
   "id": "6f693fab",
   "metadata": {},
   "outputs": [],
   "source": [
    "y_predict_rf=clf2.predict(x_test_features)"
   ]
  },
  {
   "cell_type": "code",
   "execution_count": null,
   "id": "566090a6",
   "metadata": {},
   "outputs": [],
   "source": [
    "df = pd.DataFrame(y_predict_rf)\n",
    "df.to_csv('rf_predictions.csv', index = False, header = False)"
   ]
  },
  {
   "cell_type": "code",
   "execution_count": null,
   "id": "d16d59f3",
   "metadata": {},
   "outputs": [],
   "source": [
    "clf3 = MultinomialNB()\n",
    "clf3.fit(x_train_features, y_train)"
   ]
  },
  {
   "cell_type": "code",
   "execution_count": null,
   "id": "4ef905fc",
   "metadata": {},
   "outputs": [],
   "source": [
    "y_predict_mnb = clf3.predict(x_test_features)"
   ]
  },
  {
   "cell_type": "code",
   "execution_count": null,
   "id": "5ea31d3f",
   "metadata": {},
   "outputs": [],
   "source": [
    "df = pd.DataFrame(y_predict_mnb)\n",
    "df.to_csv('mnb_predictions.csv', index = False, header = False)"
   ]
  },
  {
   "cell_type": "code",
   "execution_count": null,
   "id": "febbb2b7",
   "metadata": {},
   "outputs": [],
   "source": [
    "clf4 = tree.DecisionTreeClassifier()\n",
    "clf4.fit(x_train_features, y_train)"
   ]
  },
  {
   "cell_type": "code",
   "execution_count": null,
   "id": "37b1f05f",
   "metadata": {},
   "outputs": [],
   "source": [
    "y_predict_dt = clf4.predict(x_test_features)"
   ]
  },
  {
   "cell_type": "code",
   "execution_count": null,
   "id": "1ddce651",
   "metadata": {},
   "outputs": [],
   "source": [
    "df = pd.DataFrame(y_predict_dt)\n",
    "df.to_csv('dt_predictions.csv', index = False, header = False)"
   ]
  },
  {
   "cell_type": "code",
   "execution_count": null,
   "id": "dce27484",
   "metadata": {},
   "outputs": [],
   "source": [
    "from sklearn.neighbors import KNeighborsClassifier\n",
    "clf5 = KNeighborsClassifier()\n",
    "clf5.fit(x_train_features, y_train)"
   ]
  },
  {
   "cell_type": "code",
   "execution_count": null,
   "id": "27a7df2a",
   "metadata": {},
   "outputs": [],
   "source": [
    "y_predict_KNN = clf5.predict(x_test_features)"
   ]
  },
  {
   "cell_type": "code",
   "execution_count": null,
   "id": "2f414dc8",
   "metadata": {},
   "outputs": [],
   "source": [
    "df = pd.DataFrame(y_predict_KNN)\n",
    "df.to_csv('KNN_predictions.csv', index = False, header = False)"
   ]
  },
  {
   "cell_type": "code",
   "execution_count": null,
   "id": "b681d751",
   "metadata": {},
   "outputs": [],
   "source": [
    "from sklearn.linear_model import LogisticRegression\n",
    "clf6 = LogisticRegression()\n",
    "clf6.fit(x_train_features, y_train)"
   ]
  },
  {
   "cell_type": "code",
   "execution_count": null,
   "id": "f3979288",
   "metadata": {},
   "outputs": [],
   "source": [
    "y_predict_LG = clf6.predict(x_test_features)"
   ]
  },
  {
   "cell_type": "code",
   "execution_count": null,
   "id": "3c96cc76",
   "metadata": {},
   "outputs": [],
   "source": [
    "df = pd.DataFrame(y_predict_LG)\n",
    "df.to_csv('LG_more_predictions.csv', index = False, header = False)"
   ]
  },
  {
   "cell_type": "code",
   "execution_count": null,
   "id": "ddc2ae4b",
   "metadata": {},
   "outputs": [],
   "source": [
    "clf7 = MultinomialNB(alpha=1)\n",
    "clf7.fit(x_train_features, y_train)"
   ]
  },
  {
   "cell_type": "code",
   "execution_count": null,
   "id": "85fcab72",
   "metadata": {},
   "outputs": [],
   "source": [
    "y_predict_mnb1 = clf3.predict(x_test_features)"
   ]
  },
  {
   "cell_type": "code",
   "execution_count": null,
   "id": "360034e5",
   "metadata": {},
   "outputs": [],
   "source": [
    "df = pd.DataFrame(y_predict_mnb1)\n",
    "df.to_csv('mnb1_predictions.csv', index = False, header = False)"
   ]
  },
  {
   "cell_type": "code",
   "execution_count": null,
   "id": "5f73c405",
   "metadata": {},
   "outputs": [],
   "source": [
    "from sklearn.model_selection import GridSearchCV\n",
    "clf = SVC()\n",
    "grid = {'C':[1e1,1e2,1e3,1e4,5e3,5e2],'gamma':[1e-3,1e-2,5e-3,1e-4,5e-2,1e-5]}\n",
    "abc = GridSearchCV(clf,grid,n_jobs=-1)\n",
    "abc.fit(x_train_features, y_train)"
   ]
  },
  {
   "cell_type": "code",
   "execution_count": null,
   "id": "9fd6bfe5",
   "metadata": {},
   "outputs": [],
   "source": [
    "y_pred = abc.predict(x_test_features)"
   ]
  },
  {
   "cell_type": "code",
   "execution_count": null,
   "id": "e9990d4c",
   "metadata": {},
   "outputs": [],
   "source": [
    "df = pd.DataFrame(y_pred)\n",
    "df.to_csv('svc_updated_predictions.csv', index = False, header = False)"
   ]
  },
  {
   "cell_type": "code",
   "execution_count": null,
   "id": "6c6ea711",
   "metadata": {},
   "outputs": [],
   "source": [
    "abc.best_params_"
   ]
  },
  {
   "cell_type": "code",
   "execution_count": null,
   "id": "bad9e5c2",
   "metadata": {},
   "outputs": [],
   "source": [
    "lr = LogisticRegression()\n",
    "grid_values = {'penalty': ['l1','l2'], 'C': [0.001,0.01,0.1,1,10,100,1000]}\n",
    "model_lr = GridSearchCV(lr, param_grid=grid_values)"
   ]
  },
  {
   "cell_type": "code",
   "execution_count": null,
   "id": "a5c63bf8",
   "metadata": {},
   "outputs": [],
   "source": [
    "model_lr.fit(x_train_features, y_train)"
   ]
  },
  {
   "cell_type": "code",
   "execution_count": null,
   "id": "97c8d1af",
   "metadata": {},
   "outputs": [],
   "source": [
    "y_pred1 = model_lr.predict(x_test_features)"
   ]
  },
  {
   "cell_type": "code",
   "execution_count": null,
   "id": "f92cdc14",
   "metadata": {},
   "outputs": [],
   "source": [
    "df = pd.DataFrame(y_pred1)\n",
    "df.to_csv('LR_updated_predictions.csv', index = False, header = False)"
   ]
  },
  {
   "cell_type": "code",
   "execution_count": null,
   "id": "4fc4d1fd",
   "metadata": {},
   "outputs": [],
   "source": [
    "model=MultinomialNB()\n",
    "param={'alpha': [0.00001, 0.0001, 0.001, 0.1, 1, 10, 100,1000]}\n",
    "clfmb=GridSearchCV(model,param,scoring='roc_auc',cv=10,return_train_score=True)  \n",
    "clfmb.fit(x_train_features,y_train)"
   ]
  },
  {
   "cell_type": "code",
   "execution_count": null,
   "id": "dcb49292",
   "metadata": {},
   "outputs": [],
   "source": [
    "y_pred2 = clfmb.predict(x_test_features)"
   ]
  },
  {
   "cell_type": "code",
   "execution_count": null,
   "id": "9e6bdab3",
   "metadata": {},
   "outputs": [],
   "source": [
    "df = pd.DataFrame(y_pred2)\n",
    "df.to_csv('MB_updated_predictions.csv', index = False, header = False)"
   ]
  }
 ],
 "metadata": {
  "kernelspec": {
   "display_name": "Python 3 (ipykernel)",
   "language": "python",
   "name": "python3"
  },
  "language_info": {
   "codemirror_mode": {
    "name": "ipython",
    "version": 3
   },
   "file_extension": ".py",
   "mimetype": "text/x-python",
   "name": "python",
   "nbconvert_exporter": "python",
   "pygments_lexer": "ipython3",
   "version": "3.11.3"
  }
 },
 "nbformat": 4,
 "nbformat_minor": 5
}
